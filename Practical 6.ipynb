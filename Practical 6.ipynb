{
 "cells": [
  {
   "cell_type": "markdown",
   "id": "d2e01b6a",
   "metadata": {},
   "source": [
    "# Title : Analyzing Sales Performance by Region in a Retail Company"
   ]
  },
  {
   "cell_type": "code",
   "execution_count": null,
   "id": "cf0d5354",
   "metadata": {},
   "outputs": [],
   "source": [
    "import pandas as pd\n",
    "import matplotlib.pyplot as plt"
   ]
  },
  {
   "cell_type": "code",
   "execution_count": null,
   "id": "97b78cbc",
   "metadata": {},
   "outputs": [],
   "source": [
    "df = pd.read_csv(\"datasets/customer_shopping_data.csv\") \n",
    "display(\"Data Preview:\", df.head())\n",
    "display(\"\\nData Tail:\", df.tail())\n",
    "\n",
    "display(df.groupby(\"shopping_mall\").count())\n",
    "display(df.groupby(\"category\").count())\n"
   ]
  },
  {
   "cell_type": "code",
   "execution_count": null,
   "id": "df244536",
   "metadata": {},
   "outputs": [],
   "source": [
    "def sales_stat(df):\n",
    "    branch_sales = df.groupby(\"shopping_mall\")[\"price\"].sum()\n",
    "    category_sales = df.groupby(\"category\")[\"price\"].sum()\n",
    "    combined_sales = df.groupby([\"shopping_mall\", \"category\"])[\"price\"].sum()\n",
    "    print(\"\\nTotal Sales by Branch:\\n\", branch_sales)\n",
    "    print(\"\\nTotal Sales by Category:\\n\", category_sales)\n",
    "    print(\"\\nTotal Sales:\\n\",combined_sales)\n",
    "    return branch_sales, category_sales, combined_sales\n",
    "\n",
    "def plot_pie(data, title):\n",
    "    plt.figure(figsize=(8, 8))\n",
    "    plt.pie(data, labels=data.index, autopct='%1.1f%%', startangle=140)\n",
    "    plt.title(title)\n",
    "    plt.show()\n",
    "\n",
    "def plot_groupbar(df):\n",
    "    combined_pivot = df.pivot_table(index=\"shopping_mall\", columns=\"category\", values=\"price\", aggfunc=\"sum\")\n",
    "    combined_pivot.plot(kind=\"bar\")\n",
    "    plt.title(\"Sales by Category across Branches\")\n",
    "    plt.xlabel(\"Shopping Mall Branch\")\n",
    "    plt.ylabel(\"Total Sales\")\n",
    "    plt.xticks(rotation=45)\n",
    "    plt.legend(title=\"Product Category\")\n",
    "    plt.show()"
   ]
  },
  {
   "cell_type": "code",
   "execution_count": null,
   "id": "df244536",
   "metadata": {},
   "outputs": [],
   "source": [
    "branch_sales, category_sales, combined_sales = sales_stat(df)\n",
    "\n",
    "display(branch_sales.sort_values())\n",
    "display(category_sales.sort_values())\n",
    "display(combined_sales.sort_values())\n",
    "\n",
    "plot_pie(branch_sales, \"Sales Distribution by Branch\")\n",
    "plot_pie(category_sales, \"Sales Distribution by Product Category\")\n",
    "\n",
    "plot_groupbar(df)"
   ]
  }
 ],
 "metadata": {
  "kernelspec": {
   "display_name": ".venv",
   "language": "python",
   "name": "python3"
  },
  "language_info": {
   "codemirror_mode": {
    "name": "ipython",
    "version": 3
   },
   "file_extension": ".py",
   "mimetype": "text/x-python",
   "name": "python",
   "nbconvert_exporter": "python",
   "pygments_lexer": "ipython3",
   "version": "3.12.6"
  }
 },
 "nbformat": 4,
 "nbformat_minor": 5
}
