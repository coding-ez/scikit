{
 "cells": [
  {
   "cell_type": "markdown",
   "id": "818dadc5",
   "metadata": {
    "id": "818dadc5"
   },
   "source": [
    "# Title : Analyzing Air Quality Index (AQI) Trends in a City"
   ]
  },
  {
   "cell_type": "code",
   "execution_count": null,
   "id": "8b997540",
   "metadata": {
    "id": "8b997540"
   },
   "outputs": [],
   "source": [
    "import numpy as np\n",
    "import pandas as pd\n",
    "import matplotlib.pyplot as plt\n",
    "import seaborn as sns\n",
    "from sklearn.impute import SimpleImputer\n",
    "import warnings\n",
    "warnings.filterwarnings('ignore') "
   ]
  },
  {
   "cell_type": "code",
   "execution_count": null,
   "id": "dd9e469e",
   "metadata": {
    "colab": {
     "base_uri": "https://localhost:8080/",
     "height": 843
    },
    "id": "dd9e469e",
    "outputId": "515afa4e-aed0-42c3-df27-719381699a01"
   },
   "outputs": [],
   "source": [
    "data = pd.read_csv(\"datasets/AIQ.csv\", encoding=\"cp1252\")\n",
    "data"
   ]
  },
  {
   "cell_type": "code",
   "execution_count": null,
   "id": "cd35ba40",
   "metadata": {
    "colab": {
     "base_uri": "https://localhost:8080/"
    },
    "id": "cd35ba40",
    "outputId": "d6a7d8f2-cd7f-4af3-b6d2-6e6c4023d4ec"
   },
   "outputs": [],
   "source": [
    "data.info()"
   ]
  },
  {
   "cell_type": "code",
   "execution_count": null,
   "id": "ec035e9f",
   "metadata": {
    "id": "ec035e9f"
   },
   "outputs": [],
   "source": [
    "data.state = data.state.replace({'Uttaranchal':'Uttarakhand'})\n",
    "data.state[data.location == \"Jamshedpur\"] = data.state[data.location == 'Jamshedpur'].replace({\"Bihar\":\"Jharkhand\"})"
   ]
  },
  {
   "cell_type": "code",
   "execution_count": null,
   "id": "c15bf0ca",
   "metadata": {
    "colab": {
     "base_uri": "https://localhost:8080/",
     "height": 313
    },
    "id": "c15bf0ca",
    "outputId": "58703da8-f5c0-4258-e0de-165b48d5f822"
   },
   "outputs": [],
   "source": [
    "types = {\n",
    "    \"Residential\": \"R\",\n",
    "    \"Residential and others\": \"RO\",\n",
    "    \"Residential, Rural and other Areas\": \"RRO\",\n",
    "    \"Industrial Area\": \"I\",\n",
    "    \"Industrial Areas\": \"I\",\n",
    "    \"Industrial\": \"I\",\n",
    "    \"Sensitive Area\": \"S\",\n",
    "    \"Sensitive Areas\": \"S\",\n",
    "    \"Sensitive\": \"S\",\n",
    "    np.nan: \"RRO\"\n",
    "}\n",
    "\n",
    "data.type = data.type.replace(types)\n",
    "data.head()"
   ]
  },
  {
   "cell_type": "code",
   "execution_count": null,
   "id": "bdf082cd",
   "metadata": {
    "id": "bdf082cd"
   },
   "outputs": [],
   "source": [
    "VALUE_COLS = ['so2', 'no2', 'rspm', 'spm', 'pm2_5']"
   ]
  },
  {
   "cell_type": "code",
   "execution_count": null,
   "id": "602fac96",
   "metadata": {
    "id": "602fac96"
   },
   "outputs": [],
   "source": [
    "VALUE_COLS = ['so2', 'no2', 'rspm', 'spm', 'pm2_5']\n",
    "imputer = SimpleImputer(missing_values=np.nan, strategy='mean')\n",
    "\n",
    "nan_cols = data[VALUE_COLS].columns[data[VALUE_COLS].isnull().all()].tolist()\n",
    "\n",
    "VALUE_COLS = [col for col in VALUE_COLS if col not in nan_cols]\n",
    "\n",
    "imputed_data = imputer.fit_transform(data[VALUE_COLS])\n",
    "\n",
    "imputed_df = pd.DataFrame(imputed_data, columns=VALUE_COLS, index=data.index)\n",
    "\n",
    "data[VALUE_COLS] = imputed_df[VALUE_COLS]"
   ]
  },
  {
   "cell_type": "code",
   "execution_count": null,
   "id": "7128299d",
   "metadata": {
    "colab": {
     "base_uri": "https://localhost:8080/",
     "height": 678
    },
    "id": "7128299d",
    "outputId": "a31deef3-d4fb-46a8-99d1-e5ab23c40cfe"
   },
   "outputs": [],
   "source": [
    "print(data.isnull().sum())\n",
    "data.tail()"
   ]
  },
  {
   "cell_type": "code",
   "execution_count": null,
   "id": "ceca6de1",
   "metadata": {
    "colab": {
     "base_uri": "https://localhost:8080/",
     "height": 1000
    },
    "id": "ceca6de1",
    "outputId": "32dc9b9e-a9a8-4d6b-98c2-9c00aa544174"
   },
   "outputs": [],
   "source": [
    "def top_and_bottom_10_states(indicator=\"so2\"):\n",
    "    fig, ax = plt.subplots(2,1, figsize=(20, 12))\n",
    "    ind = data[[indicator, 'state']].groupby('state', as_index=False).median().sort_values(by=indicator,ascending=False)\n",
    "    top10 = sns.barplot(x='state', y=indicator, data=ind[:10], ax=ax[0])\n",
    "    top10.set_title(f\"Top 10 states by {indicator} (1991-2016)\")\n",
    "    top10.set_ylabel(\"so2\")\n",
    "    top10.set_xlabel(\"State\")\n",
    "    bottom10 = sns.barplot(x='state', y=indicator, data=ind[-10:], ax=ax[1])\n",
    "    bottom10.set_title(f\"Bottom 10 states by {indicator} (1991-2016)\")\n",
    "    bottom10.set_ylabel(\"so2\")\n",
    "    bottom10.set_xlabel(\"State\")\n",
    "\n",
    "top_and_bottom_10_states(\"so2\")\n",
    "top_and_bottom_10_states(\"no2\")"
   ]
  },
  {
   "cell_type": "code",
   "execution_count": null,
   "id": "c08028e0",
   "metadata": {
    "colab": {
     "base_uri": "https://localhost:8080/",
     "height": 1000
    },
    "id": "c08028e0",
    "outputId": "2141b971-c57b-4e5e-e5cc-e9cec4c25846"
   },
   "outputs": [],
   "source": [
    "def highest_levels_recorded(indicator=\"so2\"):\n",
    "    plt.figure(figsize=(20,10))\n",
    "    ind = data[[indicator, 'state']].groupby('state', as_index=False).max()\n",
    "    highest = sns.barplot(x='state', y=indicator, data=ind)\n",
    "    highest.set_title(\"Highest ever {} levels recorded by state\".format(indicator))\n",
    "    plt.xticks(rotation=90)\n",
    "\n",
    "highest_levels_recorded(\"no2\")\n",
    "highest_levels_recorded(\"rspm\")"
   ]
  },
  {
   "cell_type": "code",
   "execution_count": null,
   "id": "90137261",
   "metadata": {
    "colab": {
     "base_uri": "https://localhost:8080/",
     "height": 472
    },
    "id": "90137261",
    "outputId": "f5a9c4e5-2b12-4733-e2c4-2c28f6fce47e"
   },
   "outputs": [],
   "source": [
    "def type_avg(indicator=\"\"):\n",
    "    type_avg = data[VALUE_COLS + ['type']].groupby(\"type\").mean()  \n",
    "    if not indicator:\n",
    "        t = type_avg[indicator].plot(kind='bar')\n",
    "        plt.xticks(rotation = 0)\n",
    "        plt.title(\"Pollutant average by type for {}\".format(indicator))\n",
    "    else:\n",
    "        t = type_avg.plot(kind='bar')\n",
    "        plt.xticks(rotation = 0)\n",
    "        plt.title(\"Pollutant average by type\")\n",
    "\n",
    "type_avg('so2')"
   ]
  },
  {
   "cell_type": "code",
   "execution_count": null,
   "id": "d82ef5f7",
   "metadata": {
    "colab": {
     "base_uri": "https://localhost:8080/",
     "height": 521
    },
    "id": "d82ef5f7",
    "outputId": "4fd78a7f-32fc-45d9-ad83-db37e9c21d57"
   },
   "outputs": [],
   "source": [
    "def location_avgs(state, indicator=\"so2\"):\n",
    "    numerical_cols = VALUE_COLS + ['state', 'location']\n",
    "    locs = data[numerical_cols].groupby(['state', 'location']).mean()\n",
    "    state_avgs = locs.loc[state].reset_index()\n",
    "    sns.barplot(x='location', y=indicator, data=state_avgs)\n",
    "    plt.title(\"Location-wise average for {} in {}\".format(indicator, state))\n",
    "    plt.xticks(rotation = 90)\n",
    "\n",
    "location_avgs(\"Bihar\", \"no2\")"
   ]
  }
 ],
 "metadata": {
  "colab": {
   "provenance": []
  },
  "kernelspec": {
   "display_name": ".venv",
   "language": "python",
   "name": "python3"
  },
  "language_info": {
   "codemirror_mode": {
    "name": "ipython",
    "version": 3
   },
   "file_extension": ".py",
   "mimetype": "text/x-python",
   "name": "python",
   "nbconvert_exporter": "python",
   "pygments_lexer": "ipython3",
   "version": "3.12.6"
  }
 },
 "nbformat": 4,
 "nbformat_minor": 5
}
