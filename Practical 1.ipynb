{
 "cells": [
  {
   "cell_type": "markdown",
   "id": "688fbe09",
   "metadata": {},
   "source": [
    "# Title : Analyzing Sales Data from Multiple File Formats"
   ]
  },
  {
   "cell_type": "code",
   "execution_count": null,
   "id": "438bc708",
   "metadata": {},
   "outputs": [],
   "source": [
    "import pandas as pd\n",
    "import matplotlib.pyplot as plt\n",
    "import seaborn as sns"
   ]
  },
  {
   "cell_type": "code",
   "execution_count": null,
   "id": "4eba8f6c",
   "metadata": {},
   "outputs": [],
   "source": [
    "csv_data = pd.read_csv(\"datasets/sales_data_sample.csv\", encoding=\"cp1252\")\n",
    "excel_data = pd.read_excel(\"datasets/Sample-Sales-Data.xlsx\")\n",
    "json_data = pd.read_json(\"datasets/customers.json\")"
   ]
  },
  {
   "cell_type": "code",
   "execution_count": null,
   "id": "86657bd1",
   "metadata": {},
   "outputs": [],
   "source": [
    "def structure(data, name=\"Data\"):\n",
    "    display(f\"--- {name} ---\")\n",
    "    display(data.head(), \"\\n\")\n",
    "    display(data.tail(), \"\\n\")\n",
    "    display(data.info(), \"\\n\")\n",
    "    display(data.describe(), \"\\n\")\n",
    "\n",
    "def clean_data(data):\n",
    "    print(data.isna().sum())\n",
    "    data.dropna(inplace=True)\n",
    "    data.drop_duplicates(inplace=True)"
   ]
  },
  {
   "cell_type": "code",
   "execution_count": null,
   "id": "e3cd5bc0",
   "metadata": {},
   "outputs": [],
   "source": [
    "structure(csv_data, \"CSV Data\")\n",
    "structure(excel_data, \"Excel Data\")\n",
    "structure(json_data, \"JSON Data\")"
   ]
  },
  {
   "cell_type": "code",
   "execution_count": null,
   "id": "674cd4db",
   "metadata": {},
   "outputs": [],
   "source": [
    "clean_data(csv_data)"
   ]
  },
  {
   "cell_type": "code",
   "execution_count": null,
   "id": "4300a640",
   "metadata": {},
   "outputs": [],
   "source": [
    "clean_data(excel_data)"
   ]
  },
  {
   "cell_type": "code",
   "execution_count": null,
   "id": "bb8daf6e",
   "metadata": {},
   "outputs": [],
   "source": [
    "clean_data(json_data)"
   ]
  },
  {
   "cell_type": "code",
   "execution_count": null,
   "id": "c93f60c7",
   "metadata": {},
   "outputs": [],
   "source": [
    "unified_data = pd.concat([csv_data, excel_data], ignore_index=True)\n",
    "unified_data.sample(5)"
   ]
  },
  {
   "cell_type": "code",
   "execution_count": null,
   "id": "0273208a",
   "metadata": {},
   "outputs": [],
   "source": [
    "display(unified_data[[\"SALES\",\"Value\"]].describe())\n",
    "\n",
    "total_sales = unified_data['SALES'].sum()\n",
    "print(\"Total Sales:\", total_sales)\n",
    "\n",
    "category_sales = unified_data.groupby('ORDERNUMBER')['SALES'].mean()\n",
    "print(\"\\nAverage Sales by Order Number:\\n\", category_sales)"
   ]
  },
  {
   "cell_type": "code",
   "execution_count": null,
   "id": "3c2574a8",
   "metadata": {},
   "outputs": [],
   "source": [
    "sns.boxplot(unified_data['SALES'])\n",
    "plt.title('Sales Statistics (Box Plot)')\n",
    "plt.xlabel('Sales Value')\n",
    "plt.show()\n"
   ]
  }
 ],
 "metadata": {
  "kernelspec": {
   "display_name": ".venv",
   "language": "python",
   "name": "python3"
  },
  "language_info": {
   "codemirror_mode": {
    "name": "ipython",
    "version": 3
   },
   "file_extension": ".py",
   "mimetype": "text/x-python",
   "name": "python",
   "nbconvert_exporter": "python",
   "pygments_lexer": "ipython3",
   "version": "3.12.6"
  }
 },
 "nbformat": 4,
 "nbformat_minor": 5
}
